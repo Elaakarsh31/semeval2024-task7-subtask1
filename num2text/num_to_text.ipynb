{
 "cells": [
  {
   "cell_type": "code",
   "execution_count": null,
   "metadata": {},
   "outputs": [],
   "source": [
    "from num2words import num2words\n",
    "\n",
    "import pandas as pd\n",
    "import re"
   ]
  },
  {
   "cell_type": "code",
   "execution_count": null,
   "metadata": {},
   "outputs": [],
   "source": [
    "def num_to_text(question):\n",
    "    # pre process the string\n",
    "    question = re.sub(r'[^a-zA-Z0-9\\s.]', '', question)\n",
    "    \n",
    "    # convert decimals \n",
    "    for word in question.split(\" \"):\n",
    "        # get all decimals\n",
    "        decimals = re.findall(r'\\b\\d+\\.\\d+\\b', word)\n",
    "        if word in decimals:\n",
    "            question = question.replace(word, num2words(float(word)))\n",
    "    \n",
    "    # get all other numbers\n",
    "    numbers = re.findall(r'([^\\d]|^)(\\d+)([^\\d]|$)', question)\n",
    "    for number in numbers:\n",
    "        num = number[1]\n",
    "        text = num2words(int(num))\n",
    "        question = re.sub(rf'([^\\d]|^){num}([^\\d]|$)', rf'\\1{text}\\2', question)\n",
    "    \n",
    "    return question"
   ]
  },
  {
   "cell_type": "markdown",
   "metadata": {},
   "source": [
    "# QQA"
   ]
  },
  {
   "cell_type": "code",
   "execution_count": null,
   "metadata": {},
   "outputs": [],
   "source": [
    "data = pd.read_json(path_or_buf='QQA_train.json')\n",
    "data.head()"
   ]
  },
  {
   "cell_type": "code",
   "execution_count": null,
   "metadata": {},
   "outputs": [],
   "source": [
    "# rationale behind num_to_text function\n",
    "\n",
    "for question in data['question']:\n",
    "    question = re.sub(r'[^a-zA-Z0-9\\s.]', '', question)\n",
    "    print(question)\n",
    "    for word in question.split(\" \"):\n",
    "        # get all decimals\n",
    "        if word in re.findall(r'\\b\\d+\\.\\d+\\b', word):\n",
    "            question = question.replace(word, num2words(float(word)))\n",
    "    print(question, \"\\n\")\n",
    "    \n",
    "    numbers = re.findall(r'([^\\d]|^)(\\d+)([^\\d]|$)', question)\n",
    "    print(numbers)\n",
    "    for number in numbers:\n",
    "        num = number[1]\n",
    "        text = num2words(int(num))\n",
    "        question = re.sub(rf'([^\\d]|^){num}([^\\d]|$)', rf'\\1{text}\\2', question)\n",
    "        print(question, \"\\n\")"
   ]
  },
  {
   "cell_type": "code",
   "execution_count": null,
   "metadata": {},
   "outputs": [],
   "source": [
    "data['question_text'] = data['question'].apply(func=num_to_text)\n",
    "data.head()"
   ]
  },
  {
   "cell_type": "code",
   "execution_count": null,
   "metadata": {},
   "outputs": [],
   "source": [
    "for question in data['question_text']:\n",
    "    print(question, \"\\n\")"
   ]
  },
  {
   "cell_type": "markdown",
   "metadata": {},
   "source": [
    "# QP"
   ]
  },
  {
   "cell_type": "code",
   "execution_count": null,
   "metadata": {},
   "outputs": [],
   "source": [
    "df = pd.read_json(path_or_buf='QP/Numeracy600K_comment_train.json')\n",
    "df.head()"
   ]
  },
  {
   "cell_type": "code",
   "execution_count": null,
   "metadata": {},
   "outputs": [],
   "source": [
    "for comment in df['comment']:\n",
    "    print(comment, \"\\n\")"
   ]
  },
  {
   "cell_type": "code",
   "execution_count": null,
   "metadata": {},
   "outputs": [],
   "source": [
    "df['comment_text'] = df['comment'].apply(func=num_to_text)\n",
    "df.head()"
   ]
  },
  {
   "cell_type": "code",
   "execution_count": null,
   "metadata": {},
   "outputs": [],
   "source": [
    "for comment in df['comment_text']:\n",
    "    print(comment, \"\\n\")"
   ]
  },
  {
   "cell_type": "markdown",
   "metadata": {},
   "source": [
    "# QNLI"
   ]
  },
  {
   "cell_type": "code",
   "execution_count": null,
   "metadata": {},
   "outputs": [],
   "source": [
    "qnli = pd.read_json('AWPNLI.json')\n",
    "qnli.head()"
   ]
  },
  {
   "cell_type": "code",
   "execution_count": null,
   "metadata": {},
   "outputs": [],
   "source": [
    "for statement in qnli['statement1']:\n",
    "    print(statement, \"\\n\")"
   ]
  },
  {
   "cell_type": "code",
   "execution_count": null,
   "metadata": {},
   "outputs": [],
   "source": [
    "qnli['statement1_text'] = qnli['statement1'].apply(func=num_to_text)\n",
    "for statement in qnli['statement1_text']:\n",
    "    print(statement)"
   ]
  },
  {
   "cell_type": "code",
   "execution_count": null,
   "metadata": {},
   "outputs": [],
   "source": [
    "qnli['statement2_text'] = qnli['statement2'].apply(func=num_to_text)\n",
    "for statement in qnli['statement1_text']:\n",
    "    print(statement)"
   ]
  },
  {
   "cell_type": "code",
   "execution_count": null,
   "metadata": {},
   "outputs": [],
   "source": []
  }
 ],
 "metadata": {
  "kernelspec": {
   "display_name": "Python 3",
   "language": "python",
   "name": "python3"
  },
  "language_info": {
   "codemirror_mode": {
    "name": "ipython",
    "version": 3
   },
   "file_extension": ".py",
   "mimetype": "text/x-python",
   "name": "python",
   "nbconvert_exporter": "python",
   "pygments_lexer": "ipython3",
   "version": "3.9.6"
  },
  "orig_nbformat": 4
 },
 "nbformat": 4,
 "nbformat_minor": 2
}
