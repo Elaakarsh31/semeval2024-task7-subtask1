{
 "cells": [
  {
   "cell_type": "code",
   "execution_count": 1,
   "metadata": {},
   "outputs": [],
   "source": [
    "import pandas as pd\n",
    "import numpy as np"
   ]
  },
  {
   "cell_type": "code",
   "execution_count": 3,
   "metadata": {},
   "outputs": [],
   "source": [
    "def stratified_subsample(\n",
    "    df, group_cols=[\"length\", \"magnitude\"], subsample_size=1000, random_state=42\n",
    "):\n",
    "    grouped = df.groupby(group_cols)\n",
    "    subsampled = grouped.apply(\n",
    "        lambda x: x.sample(n=min(len(x), subsample_size), random_state=random_state)\n",
    "    ).reset_index(drop=True)\n",
    "    return subsampled"
   ]
  },
  {
   "cell_type": "code",
   "execution_count": 3,
   "metadata": {},
   "outputs": [
    {
     "name": "stdout",
     "output_type": "stream",
     "text": [
      "(480000, 11)\n",
      "(19772, 11)\n"
     ]
    },
    {
     "name": "stderr",
     "output_type": "stream",
     "text": [
      "C:\\Users\\GinMa\\AppData\\Local\\Temp\\ipykernel_45848\\3972029339.py:5: DeprecationWarning: DataFrameGroupBy.apply operated on the grouping columns. This behavior is deprecated, and in a future version of pandas the grouping columns will be excluded from the operation. Either pass `include_groups=False` to exclude the groupings or explicitly select the grouping columns after groupby to silence this warning.\n",
      "  subsampled = grouped.apply(\n"
     ]
    }
   ],
   "source": [
    "# Load the dataset\n",
    "df = pd.read_json(\"./Quantitative-101/QP/Numeracy600K_comment_train.json\")\n",
    "\n",
    "print(df.shape)\n",
    "\n",
    "\n",
    "subsampled = stratified_subsample(df)\n",
    "\n",
    "print(subsampled.shape)"
   ]
  },
  {
   "cell_type": "code",
   "execution_count": 4,
   "metadata": {},
   "outputs": [],
   "source": [
    "subsampled.to_json(\n",
    "    \"comment_subsampled_train.json\",\n",
    "    orient=\"records\",  # Creates a list of objects\n",
    ")"
   ]
  },
  {
   "cell_type": "markdown",
   "metadata": {},
   "source": [
    "#### Dev"
   ]
  },
  {
   "cell_type": "code",
   "execution_count": 4,
   "metadata": {},
   "outputs": [
    {
     "name": "stdout",
     "output_type": "stream",
     "text": [
      "(60000, 11)\n",
      "(12306, 11)\n"
     ]
    },
    {
     "name": "stderr",
     "output_type": "stream",
     "text": [
      "C:\\Users\\GinMa\\AppData\\Local\\Temp\\ipykernel_56136\\3972029339.py:5: DeprecationWarning: DataFrameGroupBy.apply operated on the grouping columns. This behavior is deprecated, and in a future version of pandas the grouping columns will be excluded from the operation. Either pass `include_groups=False` to exclude the groupings or explicitly select the grouping columns after groupby to silence this warning.\n",
      "  subsampled = grouped.apply(\n"
     ]
    }
   ],
   "source": [
    "# Load the dataset\n",
    "df = pd.read_json(\"./Quantitative-101/QP/Numeracy600K_comment_dev.json\")\n",
    "\n",
    "print(df.shape)\n",
    "\n",
    "subsampled = stratified_subsample(df)\n",
    "\n",
    "print(subsampled.shape)"
   ]
  },
  {
   "cell_type": "code",
   "execution_count": null,
   "metadata": {},
   "outputs": [],
   "source": [
    "subsampled.to_json(\n",
    "    \"comment_subsampled_dev.json\",\n",
    "    orient=\"records\",  # Creates a list of objects\n",
    ")"
   ]
  },
  {
   "cell_type": "code",
   "execution_count": null,
   "metadata": {},
   "outputs": [
    {
     "name": "stdout",
     "output_type": "stream",
     "text": [
      "(60000, 11)\n",
      "(12348, 11)\n"
     ]
    },
    {
     "name": "stderr",
     "output_type": "stream",
     "text": [
      "C:\\Users\\GinMa\\AppData\\Local\\Temp\\ipykernel_56136\\3972029339.py:5: DeprecationWarning: DataFrameGroupBy.apply operated on the grouping columns. This behavior is deprecated, and in a future version of pandas the grouping columns will be excluded from the operation. Either pass `include_groups=False` to exclude the groupings or explicitly select the grouping columns after groupby to silence this warning.\n",
      "  subsampled = grouped.apply(\n"
     ]
    }
   ],
   "source": [
    "# Load the dataset\n",
    "df = pd.read_json(\"./Quantitative-101/QP/Numeracy600K_comment_test.json\")\n",
    "\n",
    "print(df.shape)\n",
    "\n",
    "subsampled = stratified_subsample(df)\n",
    "\n",
    "print(subsampled.shape)"
   ]
  },
  {
   "cell_type": "code",
   "execution_count": null,
   "metadata": {},
   "outputs": [],
   "source": [
    "subsampled.to_json(\n",
    "    \"comment_subsampled_test.json\",\n",
    "    orient=\"records\",  # Creates a list of objects\n",
    ")"
   ]
  },
  {
   "cell_type": "markdown",
   "metadata": {},
   "source": [
    "## Headlines"
   ]
  },
  {
   "cell_type": "code",
   "execution_count": 7,
   "metadata": {},
   "outputs": [
    {
     "name": "stdout",
     "output_type": "stream",
     "text": [
      "(480000, 11)\n",
      "(12959, 11)\n"
     ]
    },
    {
     "name": "stderr",
     "output_type": "stream",
     "text": [
      "C:\\Users\\GinMa\\AppData\\Local\\Temp\\ipykernel_45848\\3972029339.py:5: DeprecationWarning: DataFrameGroupBy.apply operated on the grouping columns. This behavior is deprecated, and in a future version of pandas the grouping columns will be excluded from the operation. Either pass `include_groups=False` to exclude the groupings or explicitly select the grouping columns after groupby to silence this warning.\n",
      "  subsampled = grouped.apply(\n"
     ]
    }
   ],
   "source": [
    "# Load the dataset\n",
    "df = pd.read_json(\"./Quantitative-101/QP/Numeracy600K_headline_train.json\")\n",
    "\n",
    "print(df.shape)\n",
    "\n",
    "subsampled = stratified_subsample(df)\n",
    "\n",
    "print(subsampled.shape)"
   ]
  },
  {
   "cell_type": "code",
   "execution_count": 8,
   "metadata": {},
   "outputs": [],
   "source": [
    "subsampled.to_json(\n",
    "    \"headline_subsampled_train.json\",\n",
    "    orient=\"records\",\n",
    ")"
   ]
  },
  {
   "cell_type": "markdown",
   "metadata": {},
   "source": [
    "#### Dev"
   ]
  },
  {
   "cell_type": "code",
   "execution_count": 9,
   "metadata": {},
   "outputs": [
    {
     "name": "stdout",
     "output_type": "stream",
     "text": [
      "(60000, 11)\n",
      "(6073, 11)\n"
     ]
    },
    {
     "name": "stderr",
     "output_type": "stream",
     "text": [
      "C:\\Users\\GinMa\\AppData\\Local\\Temp\\ipykernel_45848\\3972029339.py:5: DeprecationWarning: DataFrameGroupBy.apply operated on the grouping columns. This behavior is deprecated, and in a future version of pandas the grouping columns will be excluded from the operation. Either pass `include_groups=False` to exclude the groupings or explicitly select the grouping columns after groupby to silence this warning.\n",
      "  subsampled = grouped.apply(\n"
     ]
    }
   ],
   "source": [
    "# Load the dataset\n",
    "df = pd.read_json(\"./Quantitative-101/QP/Numeracy600K_headline_dev.json\")\n",
    "\n",
    "print(df.shape)\n",
    "\n",
    "subsampled = stratified_subsample(df)\n",
    "\n",
    "print(subsampled.shape)"
   ]
  },
  {
   "cell_type": "code",
   "execution_count": 10,
   "metadata": {},
   "outputs": [],
   "source": [
    "subsampled.to_json(\n",
    "    \"headline_subsampled_dev.json\",\n",
    "    orient=\"records\",\n",
    ")"
   ]
  }
 ],
 "metadata": {
  "kernelspec": {
   "display_name": "NumEval",
   "language": "python",
   "name": "python3"
  },
  "language_info": {
   "codemirror_mode": {
    "name": "ipython",
    "version": 3
   },
   "file_extension": ".py",
   "mimetype": "text/x-python",
   "name": "python",
   "nbconvert_exporter": "python",
   "pygments_lexer": "ipython3",
   "version": "3.12.7"
  }
 },
 "nbformat": 4,
 "nbformat_minor": 2
}
