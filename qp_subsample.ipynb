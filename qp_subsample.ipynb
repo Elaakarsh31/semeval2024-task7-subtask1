{
 "cells": [
  {
   "cell_type": "code",
   "execution_count": 11,
   "metadata": {},
   "outputs": [
    {
     "name": "stdout",
     "output_type": "stream",
     "text": [
      "(480000, 11)\n",
      "(70698, 11)\n"
     ]
    },
    {
     "name": "stderr",
     "output_type": "stream",
     "text": [
      "C:\\Users\\GinMa\\AppData\\Local\\Temp\\ipykernel_78584\\2991067727.py:17: DeprecationWarning: DataFrameGroupBy.apply operated on the grouping columns. This behavior is deprecated, and in a future version of pandas the grouping columns will be excluded from the operation. Either pass `include_groups=False` to exclude the groupings or explicitly select the grouping columns after groupby to silence this warning.\n",
      "  subsampled = grouped.apply(\n"
     ]
    }
   ],
   "source": [
    "import pandas as pd\n",
    "import numpy as np\n",
    "\n",
    "# Load the dataset\n",
    "df = pd.read_json(\"./Quantitative-101/QP/Numeracy600K_comment_train.json\")\n",
    "\n",
    "print(df.shape)\n",
    "\n",
    "# Define subsample size\n",
    "subsample_size = 5000  # Adjust this as needed\n",
    "\n",
    "# Group by `length` and `magnitude`\n",
    "grouped = df.groupby([\"length\", \"magnitude\"])\n",
    "\n",
    "# Perform stratified subsampling\n",
    "# If some groups have fewer samples than subsample_size, this method will take all available samples from those groups.\n",
    "subsampled = grouped.apply(\n",
    "    lambda x: x.sample(n=min(len(x), subsample_size), random_state=42)\n",
    ").reset_index(drop=True)\n",
    "\n",
    "print(subsampled.shape)"
   ]
  },
  {
   "cell_type": "code",
   "execution_count": null,
   "metadata": {},
   "outputs": [],
   "source": [
    "subsampled.to_json(\n",
    "    \"comment_subsampled_train.json\",\n",
    "    orient=\"records\",  # Creates a list of objects\n",
    "    force_ascii=False,  # Proper JSON formatting\n",
    "    indent=2,\n",
    ")  # Pretty printing"
   ]
  },
  {
   "cell_type": "markdown",
   "metadata": {},
   "source": [
    "## Headlines"
   ]
  },
  {
   "cell_type": "code",
   "execution_count": null,
   "metadata": {},
   "outputs": [],
   "source": [
    "# Load the dataset\n",
    "df = pd.read_json(\"./Quantitative-101/QP/Numeracy600K_headline_train.json\")\n",
    "\n",
    "print(df.shape)\n",
    "\n",
    "# Define subsample size\n",
    "subsample_size = 5000  # Adjust this as needed\n",
    "\n",
    "# Group by `length` and `magnitude`\n",
    "grouped = df.groupby([\"length\", \"magnitude\"])\n",
    "\n",
    "# Perform stratified subsampling\n",
    "# If some groups have fewer samples than subsample_size, this method will take all available samples from those groups.\n",
    "subsampled = grouped.apply(\n",
    "    lambda x: x.sample(n=min(len(x), subsample_size), random_state=42)\n",
    ").reset_index(drop=True)\n",
    "\n",
    "print(subsampled.shape)"
   ]
  },
  {
   "cell_type": "code",
   "execution_count": null,
   "metadata": {},
   "outputs": [],
   "source": [
    "subsampled.to_json(\n",
    "    \"headline_subsampled_train.json\",\n",
    "    orient=\"records\",  # Creates a list of objects\n",
    "    force_ascii=False,  # Proper JSON formatting\n",
    "    indent=2,\n",
    ")  # Pretty printing"
   ]
  }
 ],
 "metadata": {
  "kernelspec": {
   "display_name": "NumEval",
   "language": "python",
   "name": "python3"
  },
  "language_info": {
   "codemirror_mode": {
    "name": "ipython",
    "version": 3
   },
   "file_extension": ".py",
   "mimetype": "text/x-python",
   "name": "python",
   "nbconvert_exporter": "python",
   "pygments_lexer": "ipython3",
   "version": "3.12.7"
  }
 },
 "nbformat": 4,
 "nbformat_minor": 2
}
